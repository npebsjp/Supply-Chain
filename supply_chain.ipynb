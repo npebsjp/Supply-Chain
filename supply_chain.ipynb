{
 "cells": [
  {
   "cell_type": "code",
   "execution_count": 1,
   "id": "ac5097a3",
   "metadata": {},
   "outputs": [],
   "source": [
    "import pandas as pd\n"
   ]
  },
  {
   "cell_type": "code",
   "execution_count": 2,
   "id": "090ebbf5",
   "metadata": {},
   "outputs": [],
   "source": [
    "data = pd.read_csv('dataset.csv')"
   ]
  },
  {
   "cell_type": "code",
   "execution_count": 3,
   "id": "d709259f",
   "metadata": {},
   "outputs": [
    {
     "data": {
      "text/html": [
       "<div>\n",
       "<style scoped>\n",
       "    .dataframe tbody tr th:only-of-type {\n",
       "        vertical-align: middle;\n",
       "    }\n",
       "\n",
       "    .dataframe tbody tr th {\n",
       "        vertical-align: top;\n",
       "    }\n",
       "\n",
       "    .dataframe thead th {\n",
       "        text-align: right;\n",
       "    }\n",
       "</style>\n",
       "<table border=\"1\" class=\"dataframe\">\n",
       "  <thead>\n",
       "    <tr style=\"text-align: right;\">\n",
       "      <th></th>\n",
       "      <th>Product_ID</th>\n",
       "      <th>Category</th>\n",
       "      <th>Supplier</th>\n",
       "      <th>Warehouse_Location</th>\n",
       "      <th>Order_Date</th>\n",
       "      <th>Delivery_Date</th>\n",
       "      <th>Inventory_Level</th>\n",
       "      <th>Stockouts</th>\n",
       "      <th>Unit_Cost</th>\n",
       "      <th>Lead_Time</th>\n",
       "    </tr>\n",
       "  </thead>\n",
       "  <tbody>\n",
       "    <tr>\n",
       "      <th>0</th>\n",
       "      <td>P0001</td>\n",
       "      <td>Toys</td>\n",
       "      <td>Supplier B</td>\n",
       "      <td>Chicago</td>\n",
       "      <td>2025-02-23</td>\n",
       "      <td>2025-03-01</td>\n",
       "      <td>15</td>\n",
       "      <td>0</td>\n",
       "      <td>446.20</td>\n",
       "      <td>6</td>\n",
       "    </tr>\n",
       "    <tr>\n",
       "      <th>1</th>\n",
       "      <td>P0002</td>\n",
       "      <td>Furniture</td>\n",
       "      <td>Supplier C</td>\n",
       "      <td>San Francisco</td>\n",
       "      <td>2025-02-25</td>\n",
       "      <td>2025-03-15</td>\n",
       "      <td>138</td>\n",
       "      <td>0</td>\n",
       "      <td>208.02</td>\n",
       "      <td>18</td>\n",
       "    </tr>\n",
       "    <tr>\n",
       "      <th>2</th>\n",
       "      <td>P0003</td>\n",
       "      <td>Furniture</td>\n",
       "      <td>Supplier B</td>\n",
       "      <td>Chicago</td>\n",
       "      <td>2025-01-22</td>\n",
       "      <td>2025-02-08</td>\n",
       "      <td>270</td>\n",
       "      <td>0</td>\n",
       "      <td>423.75</td>\n",
       "      <td>14</td>\n",
       "    </tr>\n",
       "    <tr>\n",
       "      <th>3</th>\n",
       "      <td>P0004</td>\n",
       "      <td>Toys</td>\n",
       "      <td>Supplier D</td>\n",
       "      <td>Chicago</td>\n",
       "      <td>2025-01-29</td>\n",
       "      <td>2025-02-06</td>\n",
       "      <td>151</td>\n",
       "      <td>0</td>\n",
       "      <td>123.17</td>\n",
       "      <td>8</td>\n",
       "    </tr>\n",
       "    <tr>\n",
       "      <th>4</th>\n",
       "      <td>P0005</td>\n",
       "      <td>Food</td>\n",
       "      <td>Supplier A</td>\n",
       "      <td>Dallas</td>\n",
       "      <td>2025-03-10</td>\n",
       "      <td>2025-03-24</td>\n",
       "      <td>237</td>\n",
       "      <td>1</td>\n",
       "      <td>462.93</td>\n",
       "      <td>14</td>\n",
       "    </tr>\n",
       "  </tbody>\n",
       "</table>\n",
       "</div>"
      ],
      "text/plain": [
       "  Product_ID   Category    Supplier Warehouse_Location  Order_Date  \\\n",
       "0      P0001       Toys  Supplier B            Chicago  2025-02-23   \n",
       "1      P0002  Furniture  Supplier C      San Francisco  2025-02-25   \n",
       "2      P0003  Furniture  Supplier B            Chicago  2025-01-22   \n",
       "3      P0004       Toys  Supplier D            Chicago  2025-01-29   \n",
       "4      P0005       Food  Supplier A             Dallas  2025-03-10   \n",
       "\n",
       "  Delivery_Date  Inventory_Level  Stockouts  Unit_Cost  Lead_Time  \n",
       "0    2025-03-01               15          0     446.20          6  \n",
       "1    2025-03-15              138          0     208.02         18  \n",
       "2    2025-02-08              270          0     423.75         14  \n",
       "3    2025-02-06              151          0     123.17          8  \n",
       "4    2025-03-24              237          1     462.93         14  "
      ]
     },
     "execution_count": 3,
     "metadata": {},
     "output_type": "execute_result"
    }
   ],
   "source": [
    "data.head(5)"
   ]
  },
  {
   "cell_type": "code",
   "execution_count": 4,
   "id": "d473fc28",
   "metadata": {},
   "outputs": [
    {
     "data": {
      "text/plain": [
       "(250, 10)"
      ]
     },
     "execution_count": 4,
     "metadata": {},
     "output_type": "execute_result"
    }
   ],
   "source": [
    "data.shape"
   ]
  },
  {
   "cell_type": "code",
   "execution_count": 5,
   "id": "cdcf0d3f",
   "metadata": {},
   "outputs": [
    {
     "name": "stdout",
     "output_type": "stream",
     "text": [
      "<class 'pandas.core.frame.DataFrame'>\n",
      "RangeIndex: 250 entries, 0 to 249\n",
      "Data columns (total 10 columns):\n",
      " #   Column              Non-Null Count  Dtype  \n",
      "---  ------              --------------  -----  \n",
      " 0   Product_ID          250 non-null    object \n",
      " 1   Category            250 non-null    object \n",
      " 2   Supplier            250 non-null    object \n",
      " 3   Warehouse_Location  250 non-null    object \n",
      " 4   Order_Date          250 non-null    object \n",
      " 5   Delivery_Date       250 non-null    object \n",
      " 6   Inventory_Level     250 non-null    int64  \n",
      " 7   Stockouts           250 non-null    int64  \n",
      " 8   Unit_Cost           250 non-null    float64\n",
      " 9   Lead_Time           250 non-null    int64  \n",
      "dtypes: float64(1), int64(3), object(6)\n",
      "memory usage: 19.7+ KB\n"
     ]
    }
   ],
   "source": [
    "data.info()"
   ]
  },
  {
   "cell_type": "code",
   "execution_count": 6,
   "id": "cbdcff81",
   "metadata": {},
   "outputs": [
    {
     "data": {
      "text/html": [
       "<div>\n",
       "<style scoped>\n",
       "    .dataframe tbody tr th:only-of-type {\n",
       "        vertical-align: middle;\n",
       "    }\n",
       "\n",
       "    .dataframe tbody tr th {\n",
       "        vertical-align: top;\n",
       "    }\n",
       "\n",
       "    .dataframe thead th {\n",
       "        text-align: right;\n",
       "    }\n",
       "</style>\n",
       "<table border=\"1\" class=\"dataframe\">\n",
       "  <thead>\n",
       "    <tr style=\"text-align: right;\">\n",
       "      <th></th>\n",
       "      <th>Inventory_Level</th>\n",
       "      <th>Stockouts</th>\n",
       "      <th>Unit_Cost</th>\n",
       "      <th>Lead_Time</th>\n",
       "    </tr>\n",
       "  </thead>\n",
       "  <tbody>\n",
       "    <tr>\n",
       "      <th>count</th>\n",
       "      <td>250.000000</td>\n",
       "      <td>250.000000</td>\n",
       "      <td>250.000000</td>\n",
       "      <td>250.0000</td>\n",
       "    </tr>\n",
       "    <tr>\n",
       "      <th>mean</th>\n",
       "      <td>256.348000</td>\n",
       "      <td>0.188000</td>\n",
       "      <td>247.996080</td>\n",
       "      <td>10.0000</td>\n",
       "    </tr>\n",
       "    <tr>\n",
       "      <th>std</th>\n",
       "      <td>138.852392</td>\n",
       "      <td>0.391496</td>\n",
       "      <td>138.993919</td>\n",
       "      <td>5.0785</td>\n",
       "    </tr>\n",
       "    <tr>\n",
       "      <th>min</th>\n",
       "      <td>1.000000</td>\n",
       "      <td>0.000000</td>\n",
       "      <td>5.570000</td>\n",
       "      <td>1.0000</td>\n",
       "    </tr>\n",
       "    <tr>\n",
       "      <th>25%</th>\n",
       "      <td>149.000000</td>\n",
       "      <td>0.000000</td>\n",
       "      <td>126.965000</td>\n",
       "      <td>6.0000</td>\n",
       "    </tr>\n",
       "    <tr>\n",
       "      <th>50%</th>\n",
       "      <td>268.000000</td>\n",
       "      <td>0.000000</td>\n",
       "      <td>247.265000</td>\n",
       "      <td>10.0000</td>\n",
       "    </tr>\n",
       "    <tr>\n",
       "      <th>75%</th>\n",
       "      <td>373.750000</td>\n",
       "      <td>0.000000</td>\n",
       "      <td>377.477500</td>\n",
       "      <td>14.0000</td>\n",
       "    </tr>\n",
       "    <tr>\n",
       "      <th>max</th>\n",
       "      <td>499.000000</td>\n",
       "      <td>1.000000</td>\n",
       "      <td>493.750000</td>\n",
       "      <td>19.0000</td>\n",
       "    </tr>\n",
       "  </tbody>\n",
       "</table>\n",
       "</div>"
      ],
      "text/plain": [
       "       Inventory_Level   Stockouts   Unit_Cost  Lead_Time\n",
       "count       250.000000  250.000000  250.000000   250.0000\n",
       "mean        256.348000    0.188000  247.996080    10.0000\n",
       "std         138.852392    0.391496  138.993919     5.0785\n",
       "min           1.000000    0.000000    5.570000     1.0000\n",
       "25%         149.000000    0.000000  126.965000     6.0000\n",
       "50%         268.000000    0.000000  247.265000    10.0000\n",
       "75%         373.750000    0.000000  377.477500    14.0000\n",
       "max         499.000000    1.000000  493.750000    19.0000"
      ]
     },
     "execution_count": 6,
     "metadata": {},
     "output_type": "execute_result"
    }
   ],
   "source": [
    "data.describe()"
   ]
  },
  {
   "cell_type": "code",
   "execution_count": 7,
   "id": "eea14e1a",
   "metadata": {},
   "outputs": [
    {
     "data": {
      "text/plain": [
       "Product_ID            0\n",
       "Category              0\n",
       "Supplier              0\n",
       "Warehouse_Location    0\n",
       "Order_Date            0\n",
       "Delivery_Date         0\n",
       "Inventory_Level       0\n",
       "Stockouts             0\n",
       "Unit_Cost             0\n",
       "Lead_Time             0\n",
       "dtype: int64"
      ]
     },
     "execution_count": 7,
     "metadata": {},
     "output_type": "execute_result"
    }
   ],
   "source": [
    "data.isnull().sum()"
   ]
  },
  {
   "cell_type": "code",
   "execution_count": 8,
   "id": "d8f5e056",
   "metadata": {},
   "outputs": [
    {
     "data": {
      "text/plain": [
       "np.int64(0)"
      ]
     },
     "execution_count": 8,
     "metadata": {},
     "output_type": "execute_result"
    }
   ],
   "source": [
    "data.duplicated().sum()"
   ]
  },
  {
   "cell_type": "code",
   "execution_count": 9,
   "id": "dc1208e0",
   "metadata": {},
   "outputs": [
    {
     "data": {
      "text/plain": [
       "Product_ID  Category     Supplier    Warehouse_Location  Order_Date  Delivery_Date  Inventory_Level  Stockouts  Unit_Cost  Lead_Time\n",
       "P0001       Toys         Supplier B  Chicago             2025-02-23  2025-03-01     15               0          446.20     6            1\n",
       "P0002       Furniture    Supplier C  San Francisco       2025-02-25  2025-03-15     138              0          208.02     18           1\n",
       "P0003       Furniture    Supplier B  Chicago             2025-01-22  2025-02-08     270              0          423.75     14           1\n",
       "P0004       Toys         Supplier D  Chicago             2025-01-29  2025-02-06     151              0          123.17     8            1\n",
       "P0005       Food         Supplier A  Dallas              2025-03-10  2025-03-24     237              1          462.93     14           1\n",
       "                                                                                                                                       ..\n",
       "P0246       Toys         Supplier C  Chicago             2025-02-03  2025-02-18     499              0          15.93      15           1\n",
       "P0247       Clothing     Supplier C  Chicago             2025-04-09  2025-04-18     42               0          253.83     8            1\n",
       "P0248       Electronics  Supplier C  Dallas              2025-02-25  2025-03-06     323              0          389.24     9            1\n",
       "P0249       Furniture    Supplier B  New York            2025-02-09  2025-02-20     188              1          493.75     11           1\n",
       "P0250       Electronics  Supplier B  Dallas              2025-03-15  2025-03-21     174              0          38.79      6            1\n",
       "Name: count, Length: 250, dtype: int64"
      ]
     },
     "execution_count": 9,
     "metadata": {},
     "output_type": "execute_result"
    }
   ],
   "source": [
    "data.value_counts()"
   ]
  },
  {
   "cell_type": "code",
   "execution_count": 10,
   "id": "6be894f1",
   "metadata": {},
   "outputs": [
    {
     "data": {
      "text/plain": [
       "Product_ID            250\n",
       "Category                5\n",
       "Supplier                4\n",
       "Warehouse_Location      4\n",
       "Order_Date             79\n",
       "Delivery_Date          80\n",
       "Inventory_Level       200\n",
       "Stockouts               2\n",
       "Unit_Cost             250\n",
       "Lead_Time              19\n",
       "dtype: int64"
      ]
     },
     "execution_count": 10,
     "metadata": {},
     "output_type": "execute_result"
    }
   ],
   "source": [
    "data.nunique()"
   ]
  },
  {
   "cell_type": "code",
   "execution_count": 11,
   "id": "be23d803",
   "metadata": {},
   "outputs": [
    {
     "data": {
      "text/plain": [
       "Supplier\n",
       "Supplier A    10.67\n",
       "Supplier B     9.02\n",
       "Supplier C     9.60\n",
       "Supplier D    10.82\n",
       "Name: Lead_Time, dtype: float64"
      ]
     },
     "execution_count": 11,
     "metadata": {},
     "output_type": "execute_result"
    }
   ],
   "source": [
    "data_supply_lead = data.groupby('Supplier')['Lead_Time'].mean().round(2)\n",
    "data_supply_lead"
   ]
  },
  {
   "cell_type": "code",
   "execution_count": 12,
   "id": "6c34e2c6",
   "metadata": {},
   "outputs": [
    {
     "data": {
      "text/plain": [
       "np.float64(10.0275)"
      ]
     },
     "execution_count": 12,
     "metadata": {},
     "output_type": "execute_result"
    }
   ],
   "source": [
    "data_supply_lead.mean()"
   ]
  },
  {
   "cell_type": "markdown",
   "id": "ac69acae",
   "metadata": {},
   "source": []
  },
  {
   "cell_type": "code",
   "execution_count": 13,
   "id": "edd9e463",
   "metadata": {},
   "outputs": [
    {
     "data": {
      "text/plain": [
       "0       6\n",
       "1      18\n",
       "2      14\n",
       "3       8\n",
       "4      14\n",
       "       ..\n",
       "245    15\n",
       "246     8\n",
       "247     9\n",
       "248    11\n",
       "249     6\n",
       "Name: Lead_Time, Length: 250, dtype: int64"
      ]
     },
     "execution_count": 13,
     "metadata": {},
     "output_type": "execute_result"
    }
   ],
   "source": [
    "data['Lead_Time']"
   ]
  },
  {
   "cell_type": "code",
   "execution_count": 14,
   "id": "49e3bdca",
   "metadata": {},
   "outputs": [
    {
     "data": {
      "text/html": [
       "<div>\n",
       "<style scoped>\n",
       "    .dataframe tbody tr th:only-of-type {\n",
       "        vertical-align: middle;\n",
       "    }\n",
       "\n",
       "    .dataframe tbody tr th {\n",
       "        vertical-align: top;\n",
       "    }\n",
       "\n",
       "    .dataframe thead th {\n",
       "        text-align: right;\n",
       "    }\n",
       "</style>\n",
       "<table border=\"1\" class=\"dataframe\">\n",
       "  <thead>\n",
       "    <tr style=\"text-align: right;\">\n",
       "      <th></th>\n",
       "      <th>Product_ID</th>\n",
       "      <th>Category</th>\n",
       "      <th>Supplier</th>\n",
       "      <th>Warehouse_Location</th>\n",
       "      <th>Order_Date</th>\n",
       "      <th>Delivery_Date</th>\n",
       "      <th>Inventory_Level</th>\n",
       "      <th>Stockouts</th>\n",
       "      <th>Unit_Cost</th>\n",
       "      <th>Lead_Time</th>\n",
       "    </tr>\n",
       "  </thead>\n",
       "  <tbody>\n",
       "    <tr>\n",
       "      <th>1</th>\n",
       "      <td>P0002</td>\n",
       "      <td>Furniture</td>\n",
       "      <td>Supplier C</td>\n",
       "      <td>San Francisco</td>\n",
       "      <td>2025-02-25</td>\n",
       "      <td>2025-03-15</td>\n",
       "      <td>138</td>\n",
       "      <td>0</td>\n",
       "      <td>208.02</td>\n",
       "      <td>18</td>\n",
       "    </tr>\n",
       "    <tr>\n",
       "      <th>2</th>\n",
       "      <td>P0003</td>\n",
       "      <td>Furniture</td>\n",
       "      <td>Supplier B</td>\n",
       "      <td>Chicago</td>\n",
       "      <td>2025-01-22</td>\n",
       "      <td>2025-02-08</td>\n",
       "      <td>270</td>\n",
       "      <td>0</td>\n",
       "      <td>423.75</td>\n",
       "      <td>14</td>\n",
       "    </tr>\n",
       "    <tr>\n",
       "      <th>4</th>\n",
       "      <td>P0005</td>\n",
       "      <td>Food</td>\n",
       "      <td>Supplier A</td>\n",
       "      <td>Dallas</td>\n",
       "      <td>2025-03-10</td>\n",
       "      <td>2025-03-24</td>\n",
       "      <td>237</td>\n",
       "      <td>1</td>\n",
       "      <td>462.93</td>\n",
       "      <td>14</td>\n",
       "    </tr>\n",
       "    <tr>\n",
       "      <th>5</th>\n",
       "      <td>P0006</td>\n",
       "      <td>Clothing</td>\n",
       "      <td>Supplier D</td>\n",
       "      <td>New York</td>\n",
       "      <td>2025-02-20</td>\n",
       "      <td>2025-03-13</td>\n",
       "      <td>223</td>\n",
       "      <td>0</td>\n",
       "      <td>407.72</td>\n",
       "      <td>17</td>\n",
       "    </tr>\n",
       "    <tr>\n",
       "      <th>6</th>\n",
       "      <td>P0007</td>\n",
       "      <td>Furniture</td>\n",
       "      <td>Supplier D</td>\n",
       "      <td>New York</td>\n",
       "      <td>2025-02-17</td>\n",
       "      <td>2025-03-06</td>\n",
       "      <td>248</td>\n",
       "      <td>0</td>\n",
       "      <td>128.05</td>\n",
       "      <td>17</td>\n",
       "    </tr>\n",
       "    <tr>\n",
       "      <th>...</th>\n",
       "      <td>...</td>\n",
       "      <td>...</td>\n",
       "      <td>...</td>\n",
       "      <td>...</td>\n",
       "      <td>...</td>\n",
       "      <td>...</td>\n",
       "      <td>...</td>\n",
       "      <td>...</td>\n",
       "      <td>...</td>\n",
       "      <td>...</td>\n",
       "    </tr>\n",
       "    <tr>\n",
       "      <th>242</th>\n",
       "      <td>P0243</td>\n",
       "      <td>Food</td>\n",
       "      <td>Supplier A</td>\n",
       "      <td>San Francisco</td>\n",
       "      <td>2025-04-06</td>\n",
       "      <td>2025-04-18</td>\n",
       "      <td>343</td>\n",
       "      <td>0</td>\n",
       "      <td>165.84</td>\n",
       "      <td>11</td>\n",
       "    </tr>\n",
       "    <tr>\n",
       "      <th>243</th>\n",
       "      <td>P0244</td>\n",
       "      <td>Electronics</td>\n",
       "      <td>Supplier D</td>\n",
       "      <td>Chicago</td>\n",
       "      <td>2025-04-08</td>\n",
       "      <td>2025-04-25</td>\n",
       "      <td>247</td>\n",
       "      <td>0</td>\n",
       "      <td>318.67</td>\n",
       "      <td>17</td>\n",
       "    </tr>\n",
       "    <tr>\n",
       "      <th>244</th>\n",
       "      <td>P0245</td>\n",
       "      <td>Clothing</td>\n",
       "      <td>Supplier A</td>\n",
       "      <td>Chicago</td>\n",
       "      <td>2025-02-18</td>\n",
       "      <td>2025-03-05</td>\n",
       "      <td>113</td>\n",
       "      <td>0</td>\n",
       "      <td>315.73</td>\n",
       "      <td>15</td>\n",
       "    </tr>\n",
       "    <tr>\n",
       "      <th>245</th>\n",
       "      <td>P0246</td>\n",
       "      <td>Toys</td>\n",
       "      <td>Supplier C</td>\n",
       "      <td>Chicago</td>\n",
       "      <td>2025-02-03</td>\n",
       "      <td>2025-02-18</td>\n",
       "      <td>499</td>\n",
       "      <td>0</td>\n",
       "      <td>15.93</td>\n",
       "      <td>15</td>\n",
       "    </tr>\n",
       "    <tr>\n",
       "      <th>248</th>\n",
       "      <td>P0249</td>\n",
       "      <td>Furniture</td>\n",
       "      <td>Supplier B</td>\n",
       "      <td>New York</td>\n",
       "      <td>2025-02-09</td>\n",
       "      <td>2025-02-20</td>\n",
       "      <td>188</td>\n",
       "      <td>1</td>\n",
       "      <td>493.75</td>\n",
       "      <td>11</td>\n",
       "    </tr>\n",
       "  </tbody>\n",
       "</table>\n",
       "<p>118 rows × 10 columns</p>\n",
       "</div>"
      ],
      "text/plain": [
       "    Product_ID     Category    Supplier Warehouse_Location  Order_Date  \\\n",
       "1        P0002    Furniture  Supplier C      San Francisco  2025-02-25   \n",
       "2        P0003    Furniture  Supplier B            Chicago  2025-01-22   \n",
       "4        P0005         Food  Supplier A             Dallas  2025-03-10   \n",
       "5        P0006     Clothing  Supplier D           New York  2025-02-20   \n",
       "6        P0007    Furniture  Supplier D           New York  2025-02-17   \n",
       "..         ...          ...         ...                ...         ...   \n",
       "242      P0243         Food  Supplier A      San Francisco  2025-04-06   \n",
       "243      P0244  Electronics  Supplier D            Chicago  2025-04-08   \n",
       "244      P0245     Clothing  Supplier A            Chicago  2025-02-18   \n",
       "245      P0246         Toys  Supplier C            Chicago  2025-02-03   \n",
       "248      P0249    Furniture  Supplier B           New York  2025-02-09   \n",
       "\n",
       "    Delivery_Date  Inventory_Level  Stockouts  Unit_Cost  Lead_Time  \n",
       "1      2025-03-15              138          0     208.02         18  \n",
       "2      2025-02-08              270          0     423.75         14  \n",
       "4      2025-03-24              237          1     462.93         14  \n",
       "5      2025-03-13              223          0     407.72         17  \n",
       "6      2025-03-06              248          0     128.05         17  \n",
       "..            ...              ...        ...        ...        ...  \n",
       "242    2025-04-18              343          0     165.84         11  \n",
       "243    2025-04-25              247          0     318.67         17  \n",
       "244    2025-03-05              113          0     315.73         15  \n",
       "245    2025-02-18              499          0      15.93         15  \n",
       "248    2025-02-20              188          1     493.75         11  \n",
       "\n",
       "[118 rows x 10 columns]"
      ]
     },
     "execution_count": 14,
     "metadata": {},
     "output_type": "execute_result"
    }
   ],
   "source": [
    "data_late_deliveries = data[data['Lead_Time']>10.02]\n",
    "data_late_deliveries"
   ]
  },
  {
   "cell_type": "code",
   "execution_count": 15,
   "id": "fd8528eb",
   "metadata": {},
   "outputs": [
    {
     "data": {
      "text/plain": [
       "Category\n",
       "Clothing       380\n",
       "Electronics    323\n",
       "Food           384\n",
       "Furniture      329\n",
       "Toys           300\n",
       "Name: Lead_Time, dtype: int64"
      ]
     },
     "execution_count": 15,
     "metadata": {},
     "output_type": "execute_result"
    }
   ],
   "source": [
    "data_late_category = data_late_deliveries.groupby('Category')['Lead_Time'].sum()\n",
    "data_late_category\n"
   ]
  },
  {
   "cell_type": "code",
   "execution_count": 16,
   "id": "7611b3fd",
   "metadata": {},
   "outputs": [
    {
     "data": {
      "text/plain": [
       "np.int64(1716)"
      ]
     },
     "execution_count": 16,
     "metadata": {},
     "output_type": "execute_result"
    }
   ],
   "source": [
    "total_late_cat = data_late_category.sum()\n",
    "total_late_cat"
   ]
  },
  {
   "cell_type": "code",
   "execution_count": 17,
   "id": "f87588c1",
   "metadata": {},
   "outputs": [
    {
     "data": {
      "text/plain": [
       "Category\n",
       "Clothing       22.144522\n",
       "Electronics    18.822844\n",
       "Food           22.377622\n",
       "Furniture      19.172494\n",
       "Toys           17.482517\n",
       "Name: Lead_Time, dtype: float64"
      ]
     },
     "execution_count": 17,
     "metadata": {},
     "output_type": "execute_result"
    }
   ],
   "source": [
    "data_late_category_perc = data_late_deliveries.groupby('Category')['Lead_Time'].sum() * 100/total_late_cat\n",
    "\n",
    "data_late_category_perc"
   ]
  },
  {
   "cell_type": "code",
   "execution_count": 18,
   "id": "0fbc005d",
   "metadata": {},
   "outputs": [
    {
     "data": {
      "text/plain": [
       "Warehouse_Location\n",
       "Chicago           7\n",
       "Dallas           15\n",
       "New York         11\n",
       "San Francisco    14\n",
       "Name: Stockouts, dtype: int64"
      ]
     },
     "execution_count": 18,
     "metadata": {},
     "output_type": "execute_result"
    }
   ],
   "source": [
    "stockout_frequency_warehouse = data.groupby('Warehouse_Location')['Stockouts'].sum()\n",
    "stockout_frequency_warehouse"
   ]
  },
  {
   "cell_type": "code",
   "execution_count": 19,
   "id": "ec1e6b8d",
   "metadata": {},
   "outputs": [
    {
     "data": {
      "text/plain": [
       "array(['Chicago', 'San Francisco', 'Dallas', 'New York'], dtype=object)"
      ]
     },
     "execution_count": 19,
     "metadata": {},
     "output_type": "execute_result"
    }
   ],
   "source": [
    "data['Warehouse_Location'].unique()"
   ]
  },
  {
   "cell_type": "code",
   "execution_count": 23,
   "id": "5d28686c",
   "metadata": {},
   "outputs": [
    {
     "data": {
      "text/plain": [
       "0       2.50\n",
       "1       7.67\n",
       "2      19.29\n",
       "3      18.88\n",
       "4      16.93\n",
       "       ...  \n",
       "245    33.27\n",
       "246     5.25\n",
       "247    35.89\n",
       "248    17.09\n",
       "249    29.00\n",
       "Name: Average_Daily_Usage, Length: 250, dtype: float64"
      ]
     },
     "execution_count": 23,
     "metadata": {},
     "output_type": "execute_result"
    }
   ],
   "source": [
    "data['Average_Daily_Usage'] = (data['Inventory_Level'] / data['Lead_Time']).round(2)\n",
    "data['Average_Daily_Usage']"
   ]
  },
  {
   "cell_type": "code",
   "execution_count": 29,
   "id": "74e54ecf",
   "metadata": {},
   "outputs": [
    {
     "data": {
      "text/plain": [
       "0      0\n",
       "1      8\n",
       "2      4\n",
       "3      0\n",
       "4      4\n",
       "      ..\n",
       "245    5\n",
       "246    0\n",
       "247    0\n",
       "248    1\n",
       "249    0\n",
       "Name: Lead_Safety_Stock, Length: 250, dtype: int64"
      ]
     },
     "execution_count": 29,
     "metadata": {},
     "output_type": "execute_result"
    }
   ],
   "source": [
    "data['Lead_Safety_Stock'] = data['Lead_Time'].apply(lambda x: x-10 if x >10 else  0)\n",
    "data['Lead_Safety_Stock']"
   ]
  },
  {
   "cell_type": "code",
   "execution_count": 30,
   "id": "590079e9",
   "metadata": {},
   "outputs": [
    {
     "data": {
      "text/html": [
       "<div>\n",
       "<style scoped>\n",
       "    .dataframe tbody tr th:only-of-type {\n",
       "        vertical-align: middle;\n",
       "    }\n",
       "\n",
       "    .dataframe tbody tr th {\n",
       "        vertical-align: top;\n",
       "    }\n",
       "\n",
       "    .dataframe thead th {\n",
       "        text-align: right;\n",
       "    }\n",
       "</style>\n",
       "<table border=\"1\" class=\"dataframe\">\n",
       "  <thead>\n",
       "    <tr style=\"text-align: right;\">\n",
       "      <th></th>\n",
       "      <th>Product_ID</th>\n",
       "      <th>Category</th>\n",
       "      <th>Supplier</th>\n",
       "      <th>Warehouse_Location</th>\n",
       "      <th>Order_Date</th>\n",
       "      <th>Delivery_Date</th>\n",
       "      <th>Inventory_Level</th>\n",
       "      <th>Stockouts</th>\n",
       "      <th>Unit_Cost</th>\n",
       "      <th>Lead_Time</th>\n",
       "      <th>Average_Daily_Usage</th>\n",
       "      <th>Lead_Safety_Stock</th>\n",
       "    </tr>\n",
       "  </thead>\n",
       "  <tbody>\n",
       "    <tr>\n",
       "      <th>0</th>\n",
       "      <td>P0001</td>\n",
       "      <td>Toys</td>\n",
       "      <td>Supplier B</td>\n",
       "      <td>Chicago</td>\n",
       "      <td>2025-02-23</td>\n",
       "      <td>2025-03-01</td>\n",
       "      <td>15</td>\n",
       "      <td>0</td>\n",
       "      <td>446.20</td>\n",
       "      <td>6</td>\n",
       "      <td>2.50</td>\n",
       "      <td>0</td>\n",
       "    </tr>\n",
       "    <tr>\n",
       "      <th>1</th>\n",
       "      <td>P0002</td>\n",
       "      <td>Furniture</td>\n",
       "      <td>Supplier C</td>\n",
       "      <td>San Francisco</td>\n",
       "      <td>2025-02-25</td>\n",
       "      <td>2025-03-15</td>\n",
       "      <td>138</td>\n",
       "      <td>0</td>\n",
       "      <td>208.02</td>\n",
       "      <td>18</td>\n",
       "      <td>7.67</td>\n",
       "      <td>8</td>\n",
       "    </tr>\n",
       "    <tr>\n",
       "      <th>2</th>\n",
       "      <td>P0003</td>\n",
       "      <td>Furniture</td>\n",
       "      <td>Supplier B</td>\n",
       "      <td>Chicago</td>\n",
       "      <td>2025-01-22</td>\n",
       "      <td>2025-02-08</td>\n",
       "      <td>270</td>\n",
       "      <td>0</td>\n",
       "      <td>423.75</td>\n",
       "      <td>14</td>\n",
       "      <td>19.29</td>\n",
       "      <td>4</td>\n",
       "    </tr>\n",
       "    <tr>\n",
       "      <th>3</th>\n",
       "      <td>P0004</td>\n",
       "      <td>Toys</td>\n",
       "      <td>Supplier D</td>\n",
       "      <td>Chicago</td>\n",
       "      <td>2025-01-29</td>\n",
       "      <td>2025-02-06</td>\n",
       "      <td>151</td>\n",
       "      <td>0</td>\n",
       "      <td>123.17</td>\n",
       "      <td>8</td>\n",
       "      <td>18.88</td>\n",
       "      <td>0</td>\n",
       "    </tr>\n",
       "    <tr>\n",
       "      <th>4</th>\n",
       "      <td>P0005</td>\n",
       "      <td>Food</td>\n",
       "      <td>Supplier A</td>\n",
       "      <td>Dallas</td>\n",
       "      <td>2025-03-10</td>\n",
       "      <td>2025-03-24</td>\n",
       "      <td>237</td>\n",
       "      <td>1</td>\n",
       "      <td>462.93</td>\n",
       "      <td>14</td>\n",
       "      <td>16.93</td>\n",
       "      <td>4</td>\n",
       "    </tr>\n",
       "  </tbody>\n",
       "</table>\n",
       "</div>"
      ],
      "text/plain": [
       "  Product_ID   Category    Supplier Warehouse_Location  Order_Date  \\\n",
       "0      P0001       Toys  Supplier B            Chicago  2025-02-23   \n",
       "1      P0002  Furniture  Supplier C      San Francisco  2025-02-25   \n",
       "2      P0003  Furniture  Supplier B            Chicago  2025-01-22   \n",
       "3      P0004       Toys  Supplier D            Chicago  2025-01-29   \n",
       "4      P0005       Food  Supplier A             Dallas  2025-03-10   \n",
       "\n",
       "  Delivery_Date  Inventory_Level  Stockouts  Unit_Cost  Lead_Time  \\\n",
       "0    2025-03-01               15          0     446.20          6   \n",
       "1    2025-03-15              138          0     208.02         18   \n",
       "2    2025-02-08              270          0     423.75         14   \n",
       "3    2025-02-06              151          0     123.17          8   \n",
       "4    2025-03-24              237          1     462.93         14   \n",
       "\n",
       "   Average_Daily_Usage  Lead_Safety_Stock  \n",
       "0                 2.50                  0  \n",
       "1                 7.67                  8  \n",
       "2                19.29                  4  \n",
       "3                18.88                  0  \n",
       "4                16.93                  4  "
      ]
     },
     "execution_count": 30,
     "metadata": {},
     "output_type": "execute_result"
    }
   ],
   "source": [
    "data.head(5)"
   ]
  },
  {
   "cell_type": "code",
   "execution_count": 32,
   "id": "497e9807",
   "metadata": {},
   "outputs": [
    {
     "data": {
      "text/plain": [
       "0        0.00\n",
       "1       61.36\n",
       "2       77.16\n",
       "3        0.00\n",
       "4       67.72\n",
       "        ...  \n",
       "245    166.35\n",
       "246      0.00\n",
       "247      0.00\n",
       "248     17.09\n",
       "249      0.00\n",
       "Name: Safety_Stock, Length: 250, dtype: float64"
      ]
     },
     "execution_count": 32,
     "metadata": {},
     "output_type": "execute_result"
    }
   ],
   "source": [
    "data['Safety_Stock'] = data['Average_Daily_Usage']* data['Lead_Safety_Stock']\n",
    "data['Safety_Stock']"
   ]
  },
  {
   "cell_type": "code",
   "execution_count": 35,
   "id": "abdf63ce",
   "metadata": {},
   "outputs": [
    {
     "data": {
      "text/plain": [
       "0       15.00\n",
       "1      146.06\n",
       "2      274.06\n",
       "3      151.04\n",
       "4      241.02\n",
       "        ...  \n",
       "245    504.05\n",
       "246     42.00\n",
       "247    323.01\n",
       "248    188.99\n",
       "249    174.00\n",
       "Name: Rop, Length: 250, dtype: float64"
      ]
     },
     "execution_count": 35,
     "metadata": {},
     "output_type": "execute_result"
    }
   ],
   "source": [
    "data['Rop'] = (data['Average_Daily_Usage'] * data['Lead_Time']) + data['Lead_Safety_Stock']\n",
    "data['Rop']"
   ]
  },
  {
   "cell_type": "code",
   "execution_count": null,
   "id": "17b4f51b",
   "metadata": {},
   "outputs": [
    {
     "data": {
      "text/plain": [
       "Supplier\n",
       "Supplier A    477\n",
       "Supplier B    380\n",
       "Supplier C    384\n",
       "Supplier D    475\n",
       "Name: Lead_Time, dtype: int64"
      ]
     },
     "execution_count": 23,
     "metadata": {},
     "output_type": "execute_result"
    }
   ],
   "source": [
    "data_supplier_late = data_late_deliveries.groupby('Supplier')['Lead_Time'].sum()\n",
    "data_supplier_late"
   ]
  },
  {
   "cell_type": "code",
   "execution_count": 37,
   "id": "ad07de53",
   "metadata": {},
   "outputs": [
    {
     "data": {
      "text/plain": [
       "0       13.500\n",
       "1      124.254\n",
       "2      243.054\n",
       "3      135.936\n",
       "4      213.318\n",
       "        ...   \n",
       "245    449.145\n",
       "246     37.800\n",
       "247    290.709\n",
       "248    169.191\n",
       "249    156.600\n",
       "Name: Cost_Savings, Length: 250, dtype: float64"
      ]
     },
     "execution_count": 37,
     "metadata": {},
     "output_type": "execute_result"
    }
   ],
   "source": [
    "data['Cost_Savings'] = data['Average_Daily_Usage'] * (data['Lead_Time'] - (data['Lead_Time'] * 10/100))\n",
    "data['Cost_Savings']"
   ]
  },
  {
   "cell_type": "code",
   "execution_count": 41,
   "id": "27dc73f5",
   "metadata": {},
   "outputs": [
    {
     "data": {
      "text/plain": [
       "array([57678.89])"
      ]
     },
     "execution_count": 41,
     "metadata": {},
     "output_type": "execute_result"
    }
   ],
   "source": [
    "data['Cost_Savings_Total'] = data['Cost_Savings'].sum()\n",
    "data['Cost_Savings_Total'].unique().round(2)"
   ]
  },
  {
   "cell_type": "code",
   "execution_count": null,
   "id": "6833b6e3",
   "metadata": {},
   "outputs": [],
   "source": []
  }
 ],
 "metadata": {
  "kernelspec": {
   "display_name": "Python 3",
   "language": "python",
   "name": "python3"
  },
  "language_info": {
   "codemirror_mode": {
    "name": "ipython",
    "version": 3
   },
   "file_extension": ".py",
   "mimetype": "text/x-python",
   "name": "python",
   "nbconvert_exporter": "python",
   "pygments_lexer": "ipython3",
   "version": "3.12.1"
  }
 },
 "nbformat": 4,
 "nbformat_minor": 5
}

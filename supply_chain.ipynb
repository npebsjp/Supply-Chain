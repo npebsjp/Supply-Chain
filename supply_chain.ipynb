{
 "cells": [
  {
   "cell_type": "code",
   "execution_count": 1,
   "id": "ac5097a3",
   "metadata": {},
   "outputs": [],
   "source": [
    "import pandas as pd\n"
   ]
  },
  {
   "cell_type": "code",
   "execution_count": 2,
   "id": "090ebbf5",
   "metadata": {},
   "outputs": [],
   "source": [
    "data = pd.read_csv('dataset.csv')"
   ]
  },
  {
   "cell_type": "code",
   "execution_count": 3,
   "id": "d709259f",
   "metadata": {},
   "outputs": [
    {
     "data": {
      "text/html": [
       "<div>\n",
       "<style scoped>\n",
       "    .dataframe tbody tr th:only-of-type {\n",
       "        vertical-align: middle;\n",
       "    }\n",
       "\n",
       "    .dataframe tbody tr th {\n",
       "        vertical-align: top;\n",
       "    }\n",
       "\n",
       "    .dataframe thead th {\n",
       "        text-align: right;\n",
       "    }\n",
       "</style>\n",
       "<table border=\"1\" class=\"dataframe\">\n",
       "  <thead>\n",
       "    <tr style=\"text-align: right;\">\n",
       "      <th></th>\n",
       "      <th>Product_ID</th>\n",
       "      <th>Category</th>\n",
       "      <th>Supplier</th>\n",
       "      <th>Warehouse_Location</th>\n",
       "      <th>Order_Date</th>\n",
       "      <th>Delivery_Date</th>\n",
       "      <th>Inventory_Level</th>\n",
       "      <th>Stockouts</th>\n",
       "      <th>Unit_Cost</th>\n",
       "      <th>Lead_Time</th>\n",
       "    </tr>\n",
       "  </thead>\n",
       "  <tbody>\n",
       "    <tr>\n",
       "      <th>0</th>\n",
       "      <td>P0001</td>\n",
       "      <td>Toys</td>\n",
       "      <td>Supplier B</td>\n",
       "      <td>Chicago</td>\n",
       "      <td>2025-02-23</td>\n",
       "      <td>2025-03-01</td>\n",
       "      <td>15</td>\n",
       "      <td>0</td>\n",
       "      <td>446.20</td>\n",
       "      <td>6</td>\n",
       "    </tr>\n",
       "    <tr>\n",
       "      <th>1</th>\n",
       "      <td>P0002</td>\n",
       "      <td>Furniture</td>\n",
       "      <td>Supplier C</td>\n",
       "      <td>San Francisco</td>\n",
       "      <td>2025-02-25</td>\n",
       "      <td>2025-03-15</td>\n",
       "      <td>138</td>\n",
       "      <td>0</td>\n",
       "      <td>208.02</td>\n",
       "      <td>18</td>\n",
       "    </tr>\n",
       "    <tr>\n",
       "      <th>2</th>\n",
       "      <td>P0003</td>\n",
       "      <td>Furniture</td>\n",
       "      <td>Supplier B</td>\n",
       "      <td>Chicago</td>\n",
       "      <td>2025-01-22</td>\n",
       "      <td>2025-02-08</td>\n",
       "      <td>270</td>\n",
       "      <td>0</td>\n",
       "      <td>423.75</td>\n",
       "      <td>14</td>\n",
       "    </tr>\n",
       "    <tr>\n",
       "      <th>3</th>\n",
       "      <td>P0004</td>\n",
       "      <td>Toys</td>\n",
       "      <td>Supplier D</td>\n",
       "      <td>Chicago</td>\n",
       "      <td>2025-01-29</td>\n",
       "      <td>2025-02-06</td>\n",
       "      <td>151</td>\n",
       "      <td>0</td>\n",
       "      <td>123.17</td>\n",
       "      <td>8</td>\n",
       "    </tr>\n",
       "    <tr>\n",
       "      <th>4</th>\n",
       "      <td>P0005</td>\n",
       "      <td>Food</td>\n",
       "      <td>Supplier A</td>\n",
       "      <td>Dallas</td>\n",
       "      <td>2025-03-10</td>\n",
       "      <td>2025-03-24</td>\n",
       "      <td>237</td>\n",
       "      <td>1</td>\n",
       "      <td>462.93</td>\n",
       "      <td>14</td>\n",
       "    </tr>\n",
       "  </tbody>\n",
       "</table>\n",
       "</div>"
      ],
      "text/plain": [
       "  Product_ID   Category    Supplier Warehouse_Location  Order_Date  \\\n",
       "0      P0001       Toys  Supplier B            Chicago  2025-02-23   \n",
       "1      P0002  Furniture  Supplier C      San Francisco  2025-02-25   \n",
       "2      P0003  Furniture  Supplier B            Chicago  2025-01-22   \n",
       "3      P0004       Toys  Supplier D            Chicago  2025-01-29   \n",
       "4      P0005       Food  Supplier A             Dallas  2025-03-10   \n",
       "\n",
       "  Delivery_Date  Inventory_Level  Stockouts  Unit_Cost  Lead_Time  \n",
       "0    2025-03-01               15          0     446.20          6  \n",
       "1    2025-03-15              138          0     208.02         18  \n",
       "2    2025-02-08              270          0     423.75         14  \n",
       "3    2025-02-06              151          0     123.17          8  \n",
       "4    2025-03-24              237          1     462.93         14  "
      ]
     },
     "execution_count": 3,
     "metadata": {},
     "output_type": "execute_result"
    }
   ],
   "source": [
    "data.head(5)"
   ]
  },
  {
   "cell_type": "code",
   "execution_count": 4,
   "id": "d473fc28",
   "metadata": {},
   "outputs": [
    {
     "data": {
      "text/plain": [
       "(250, 10)"
      ]
     },
     "execution_count": 4,
     "metadata": {},
     "output_type": "execute_result"
    }
   ],
   "source": [
    "data.shape"
   ]
  },
  {
   "cell_type": "code",
   "execution_count": 5,
   "id": "cdcf0d3f",
   "metadata": {},
   "outputs": [
    {
     "name": "stdout",
     "output_type": "stream",
     "text": [
      "<class 'pandas.core.frame.DataFrame'>\n",
      "RangeIndex: 250 entries, 0 to 249\n",
      "Data columns (total 10 columns):\n",
      " #   Column              Non-Null Count  Dtype  \n",
      "---  ------              --------------  -----  \n",
      " 0   Product_ID          250 non-null    object \n",
      " 1   Category            250 non-null    object \n",
      " 2   Supplier            250 non-null    object \n",
      " 3   Warehouse_Location  250 non-null    object \n",
      " 4   Order_Date          250 non-null    object \n",
      " 5   Delivery_Date       250 non-null    object \n",
      " 6   Inventory_Level     250 non-null    int64  \n",
      " 7   Stockouts           250 non-null    int64  \n",
      " 8   Unit_Cost           250 non-null    float64\n",
      " 9   Lead_Time           250 non-null    int64  \n",
      "dtypes: float64(1), int64(3), object(6)\n",
      "memory usage: 19.7+ KB\n"
     ]
    }
   ],
   "source": [
    "data.info()"
   ]
  },
  {
   "cell_type": "code",
   "execution_count": 6,
   "id": "cbdcff81",
   "metadata": {},
   "outputs": [
    {
     "data": {
      "text/html": [
       "<div>\n",
       "<style scoped>\n",
       "    .dataframe tbody tr th:only-of-type {\n",
       "        vertical-align: middle;\n",
       "    }\n",
       "\n",
       "    .dataframe tbody tr th {\n",
       "        vertical-align: top;\n",
       "    }\n",
       "\n",
       "    .dataframe thead th {\n",
       "        text-align: right;\n",
       "    }\n",
       "</style>\n",
       "<table border=\"1\" class=\"dataframe\">\n",
       "  <thead>\n",
       "    <tr style=\"text-align: right;\">\n",
       "      <th></th>\n",
       "      <th>Inventory_Level</th>\n",
       "      <th>Stockouts</th>\n",
       "      <th>Unit_Cost</th>\n",
       "      <th>Lead_Time</th>\n",
       "    </tr>\n",
       "  </thead>\n",
       "  <tbody>\n",
       "    <tr>\n",
       "      <th>count</th>\n",
       "      <td>250.000000</td>\n",
       "      <td>250.000000</td>\n",
       "      <td>250.000000</td>\n",
       "      <td>250.0000</td>\n",
       "    </tr>\n",
       "    <tr>\n",
       "      <th>mean</th>\n",
       "      <td>256.348000</td>\n",
       "      <td>0.188000</td>\n",
       "      <td>247.996080</td>\n",
       "      <td>10.0000</td>\n",
       "    </tr>\n",
       "    <tr>\n",
       "      <th>std</th>\n",
       "      <td>138.852392</td>\n",
       "      <td>0.391496</td>\n",
       "      <td>138.993919</td>\n",
       "      <td>5.0785</td>\n",
       "    </tr>\n",
       "    <tr>\n",
       "      <th>min</th>\n",
       "      <td>1.000000</td>\n",
       "      <td>0.000000</td>\n",
       "      <td>5.570000</td>\n",
       "      <td>1.0000</td>\n",
       "    </tr>\n",
       "    <tr>\n",
       "      <th>25%</th>\n",
       "      <td>149.000000</td>\n",
       "      <td>0.000000</td>\n",
       "      <td>126.965000</td>\n",
       "      <td>6.0000</td>\n",
       "    </tr>\n",
       "    <tr>\n",
       "      <th>50%</th>\n",
       "      <td>268.000000</td>\n",
       "      <td>0.000000</td>\n",
       "      <td>247.265000</td>\n",
       "      <td>10.0000</td>\n",
       "    </tr>\n",
       "    <tr>\n",
       "      <th>75%</th>\n",
       "      <td>373.750000</td>\n",
       "      <td>0.000000</td>\n",
       "      <td>377.477500</td>\n",
       "      <td>14.0000</td>\n",
       "    </tr>\n",
       "    <tr>\n",
       "      <th>max</th>\n",
       "      <td>499.000000</td>\n",
       "      <td>1.000000</td>\n",
       "      <td>493.750000</td>\n",
       "      <td>19.0000</td>\n",
       "    </tr>\n",
       "  </tbody>\n",
       "</table>\n",
       "</div>"
      ],
      "text/plain": [
       "       Inventory_Level   Stockouts   Unit_Cost  Lead_Time\n",
       "count       250.000000  250.000000  250.000000   250.0000\n",
       "mean        256.348000    0.188000  247.996080    10.0000\n",
       "std         138.852392    0.391496  138.993919     5.0785\n",
       "min           1.000000    0.000000    5.570000     1.0000\n",
       "25%         149.000000    0.000000  126.965000     6.0000\n",
       "50%         268.000000    0.000000  247.265000    10.0000\n",
       "75%         373.750000    0.000000  377.477500    14.0000\n",
       "max         499.000000    1.000000  493.750000    19.0000"
      ]
     },
     "execution_count": 6,
     "metadata": {},
     "output_type": "execute_result"
    }
   ],
   "source": [
    "data.describe()"
   ]
  },
  {
   "cell_type": "code",
   "execution_count": 7,
   "id": "eea14e1a",
   "metadata": {},
   "outputs": [
    {
     "data": {
      "text/plain": [
       "Product_ID            0\n",
       "Category              0\n",
       "Supplier              0\n",
       "Warehouse_Location    0\n",
       "Order_Date            0\n",
       "Delivery_Date         0\n",
       "Inventory_Level       0\n",
       "Stockouts             0\n",
       "Unit_Cost             0\n",
       "Lead_Time             0\n",
       "dtype: int64"
      ]
     },
     "execution_count": 7,
     "metadata": {},
     "output_type": "execute_result"
    }
   ],
   "source": [
    "data.isnull().sum()"
   ]
  },
  {
   "cell_type": "code",
   "execution_count": 8,
   "id": "d8f5e056",
   "metadata": {},
   "outputs": [
    {
     "data": {
      "text/plain": [
       "np.int64(0)"
      ]
     },
     "execution_count": 8,
     "metadata": {},
     "output_type": "execute_result"
    }
   ],
   "source": [
    "data.duplicated().sum()"
   ]
  },
  {
   "cell_type": "code",
   "execution_count": 9,
   "id": "dc1208e0",
   "metadata": {},
   "outputs": [
    {
     "data": {
      "text/plain": [
       "Product_ID  Category     Supplier    Warehouse_Location  Order_Date  Delivery_Date  Inventory_Level  Stockouts  Unit_Cost  Lead_Time\n",
       "P0001       Toys         Supplier B  Chicago             2025-02-23  2025-03-01     15               0          446.20     6            1\n",
       "P0002       Furniture    Supplier C  San Francisco       2025-02-25  2025-03-15     138              0          208.02     18           1\n",
       "P0003       Furniture    Supplier B  Chicago             2025-01-22  2025-02-08     270              0          423.75     14           1\n",
       "P0004       Toys         Supplier D  Chicago             2025-01-29  2025-02-06     151              0          123.17     8            1\n",
       "P0005       Food         Supplier A  Dallas              2025-03-10  2025-03-24     237              1          462.93     14           1\n",
       "                                                                                                                                       ..\n",
       "P0246       Toys         Supplier C  Chicago             2025-02-03  2025-02-18     499              0          15.93      15           1\n",
       "P0247       Clothing     Supplier C  Chicago             2025-04-09  2025-04-18     42               0          253.83     8            1\n",
       "P0248       Electronics  Supplier C  Dallas              2025-02-25  2025-03-06     323              0          389.24     9            1\n",
       "P0249       Furniture    Supplier B  New York            2025-02-09  2025-02-20     188              1          493.75     11           1\n",
       "P0250       Electronics  Supplier B  Dallas              2025-03-15  2025-03-21     174              0          38.79      6            1\n",
       "Name: count, Length: 250, dtype: int64"
      ]
     },
     "execution_count": 9,
     "metadata": {},
     "output_type": "execute_result"
    }
   ],
   "source": [
    "data.value_counts()"
   ]
  },
  {
   "cell_type": "code",
   "execution_count": 10,
   "id": "6be894f1",
   "metadata": {},
   "outputs": [
    {
     "data": {
      "text/plain": [
       "Product_ID            250\n",
       "Category                5\n",
       "Supplier                4\n",
       "Warehouse_Location      4\n",
       "Order_Date             79\n",
       "Delivery_Date          80\n",
       "Inventory_Level       200\n",
       "Stockouts               2\n",
       "Unit_Cost             250\n",
       "Lead_Time              19\n",
       "dtype: int64"
      ]
     },
     "execution_count": 10,
     "metadata": {},
     "output_type": "execute_result"
    }
   ],
   "source": [
    "data.nunique()"
   ]
  },
  {
   "cell_type": "code",
   "execution_count": 11,
   "id": "be23d803",
   "metadata": {},
   "outputs": [
    {
     "data": {
      "text/plain": [
       "Supplier\n",
       "Supplier A    10.672414\n",
       "Supplier B     9.015385\n",
       "Supplier C     9.600000\n",
       "Supplier D    10.822581\n",
       "Name: Lead_Time, dtype: float64"
      ]
     },
     "execution_count": 11,
     "metadata": {},
     "output_type": "execute_result"
    }
   ],
   "source": [
    "data_supply_lead = data.groupby('Supplier')['Lead_Time'].mean()\n",
    "data_supply_lead"
   ]
  },
  {
   "cell_type": "markdown",
   "id": "ac69acae",
   "metadata": {},
   "source": []
  }
 ],
 "metadata": {
  "kernelspec": {
   "display_name": "Python 3",
   "language": "python",
   "name": "python3"
  },
  "language_info": {
   "codemirror_mode": {
    "name": "ipython",
    "version": 3
   },
   "file_extension": ".py",
   "mimetype": "text/x-python",
   "name": "python",
   "nbconvert_exporter": "python",
   "pygments_lexer": "ipython3",
   "version": "3.12.1"
  }
 },
 "nbformat": 4,
 "nbformat_minor": 5
}
